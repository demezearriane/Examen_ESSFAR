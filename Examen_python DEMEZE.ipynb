{
 "cells": [
  {
   "cell_type": "code",
   "execution_count": 1,
   "id": "recovered-bacteria",
   "metadata": {},
   "outputs": [],
   "source": [
    "import pandas as pd\n",
    "import numpy as np\n",
    "import matplotlib.pyplot as plt\n",
    "import pandas as pd"
   ]
  },
  {
   "cell_type": "markdown",
   "id": "academic-kelly",
   "metadata": {},
   "source": [
    "## Exercice1"
   ]
  },
  {
   "cell_type": "code",
   "execution_count": null,
   "id": "written-tuition",
   "metadata": {},
   "outputs": [],
   "source": []
  },
  {
   "cell_type": "markdown",
   "id": "married-disaster",
   "metadata": {},
   "source": [
    "## Exercice2"
   ]
  },
  {
   "cell_type": "code",
   "execution_count": 43,
   "id": "healthy-bookmark",
   "metadata": {},
   "outputs": [
    {
     "name": "stderr",
     "output_type": "stream",
     "text": [
      "<ipython-input-43-8e4ef685a819>:1: ParserWarning: Falling back to the 'python' engine because the 'c' engine does not support regex separators (separators > 1 char and different from '\\s+' are interpreted as regex); you can avoid this warning by specifying engine='python'.\n",
      "  df_amazom= pd.read_csv('amazon.txt',sep='%notebook')\n"
     ]
    }
   ],
   "source": [
    "df_amazom= pd.read_csv('amazon.txt',sep='.')\n",
    "df_imdb= pd.read_csv('imdb.txt',sep='.')"
   ]
  },
  {
   "cell_type": "code",
   "execution_count": null,
   "id": "underlying-peeing",
   "metadata": {},
   "outputs": [],
   "source": [
    "df_amazom.columns=['commentaire','clase']\n",
    "df_imdb.columns=['commentaire','clase']"
   ]
  },
  {
   "cell_type": "markdown",
   "id": "broad-moldova",
   "metadata": {},
   "source": [
    "1. Fonction qui permet de fusionner les deux fichiers"
   ]
  },
  {
   "cell_type": "code",
   "execution_count": null,
   "id": "recovered-forestry",
   "metadata": {},
   "outputs": [],
   "source": [
    "def Insert_df(Df):\n",
    "    \n",
    "    import pymongo\n",
    "    from pymongo import MongoClient\n",
    "\n",
    "    myclient = MongoClient('mongodb://localhost:27017/')\n",
    "    mydb = myclient['Avis_client']\n",
    "    mycollection = mydb[\"Avis_etiquete\"]\n",
    "\n",
    "    mydb.mycollection.insert_many(Df)\n",
    "    "
   ]
  },
  {
   "cell_type": "code",
   "execution_count": null,
   "id": "diverse-fancy",
   "metadata": {},
   "outputs": [],
   "source": [
    "Insert_df(df_amazom)\n",
    "Insert_df(df_imdb)"
   ]
  },
  {
   "cell_type": "code",
   "execution_count": null,
   "id": "national-balloon",
   "metadata": {},
   "outputs": [],
   "source": []
  },
  {
   "cell_type": "markdown",
   "id": "dirty-simpson",
   "metadata": {},
   "source": [
    "### 2. Module python"
   ]
  },
  {
   "cell_type": "markdown",
   "id": "moved-nature",
   "metadata": {},
   "source": [
    "a. Visualisation\n"
   ]
  },
  {
   "cell_type": "code",
   "execution_count": null,
   "id": "robust-supplier",
   "metadata": {},
   "outputs": [],
   "source": [
    "#-fusionnons les deux data frame\n",
    "amazom_imdb= pd.concat([df_amazom,df_imdb])"
   ]
  },
  {
   "cell_type": "code",
   "execution_count": null,
   "id": "swiss-volleyball",
   "metadata": {},
   "outputs": [],
   "source": [
    "def Visualiz_worcloud(df):\n",
    "    opinions=' '.join(list(set(str(text) for text in df['commentaire'])))\n",
    "    \n",
    "    wordcloud = WordCloud(width=800, height=500, background_color = 'black', contour_color = 'steelblue').generate(opinions)\n",
    "    plt.figure(figsize=(15, 12))\n",
    "    plt.imshow(wordcloud, interpolation=\"bilinear\")\n",
    "    plt.axis('off')\n",
    "    \n",
    "Visualiz_worcloud(amazom_imdb)"
   ]
  },
  {
   "cell_type": "markdown",
   "id": "remarkable-title",
   "metadata": {},
   "source": [
    "d. découpage des données en deux parties"
   ]
  },
  {
   "cell_type": "code",
   "execution_count": null,
   "id": "flexible-development",
   "metadata": {},
   "outputs": [],
   "source": [
    "from sklearn.model_selection import train_test_split"
   ]
  },
  {
   "cell_type": "code",
   "execution_count": null,
   "id": "received-thanks",
   "metadata": {},
   "outputs": [],
   "source": [
    "\n",
    "X_train, X_test, y_train, y_test = train_test_split(X, NewDf['classe'], train_size=0.8)"
   ]
  }
 ],
 "metadata": {
  "kernelspec": {
   "display_name": "Python 3",
   "language": "python",
   "name": "python3"
  },
  "language_info": {
   "codemirror_mode": {
    "name": "ipython",
    "version": 3
   },
   "file_extension": ".py",
   "mimetype": "text/x-python",
   "name": "python",
   "nbconvert_exporter": "python",
   "pygments_lexer": "ipython3",
   "version": "3.8.8"
  }
 },
 "nbformat": 4,
 "nbformat_minor": 5
}
